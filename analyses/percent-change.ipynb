{
 "cells": [
  {
   "cell_type": "code",
   "execution_count": 54,
   "id": "4765691f",
   "metadata": {
    "scrolled": true
   },
   "outputs": [],
   "source": [
    "import matplotlib.pyplot as plt\n",
    "import pandas as pd\n",
    "import math\n",
    "import numpy as np\n",
    "import sys\n",
    "sys.path.append('../../utils/')\n",
    "\n",
    "from utils import *\n",
    "\n",
    "# Create matrix of outcomes x intvns for assoc, contemp, and lagged"
   ]
  },
  {
   "cell_type": "code",
   "execution_count": 55,
   "id": "942e7a69",
   "metadata": {},
   "outputs": [],
   "source": [
    "# PE: for a one SD increase in intervention, the # of SD increases in the outcome\n",
    "# Percent change computation: PE*outcome_SD/baseline (outcome mean for one year prior)\n",
    "\n",
    "netflix_release_dates = {'tgc': [2019, 10, 16], 'fok': [2011, 5, 6], 'okja': [2017, 6, 28],\n",
    "                'wth': [2017, 6, 16], 'cowspiracy': [2015, 9, 15], 'owth': [2017, 6, 16],\n",
    "                        'yawye': [2024, 1,1]}\n",
    "\n",
    "units = 'weeks'\n",
    "model = 'lagged'\n",
    "results_dir = '../results/assoc_contemp_lagged_2024_weeks_2024-06-26_15_47_00.166579/'\n",
    "\n",
    "results_df = pd.read_csv(results_dir + model + '_df_' + units + '_all_primary.csv')\n",
    "\n",
    "df_loc = '../data/prepared/merged/merged_' + units + '.csv'\n",
    "df = pd.read_csv(df_loc)"
   ]
  },
  {
   "cell_type": "code",
   "execution_count": 56,
   "id": "3f0fd860",
   "metadata": {},
   "outputs": [
    {
     "data": {
      "text/plain": [
       "Index(['ds', 'tgc', 'wth', 'cowspiracy', 'fok', 'okja', 'yawye',\n",
       "       'sustainability', 'animal_welfare', 'climate', 'climate_change',\n",
       "       'health', 'vegan', 'vegetarian', 'plant_based_plus_plant_based',\n",
       "       'vegan_informative', 'vegetarian_informative',\n",
       "       'plant_based_informative', 'vegan_behavior', 'vegetarian_behavior',\n",
       "       'plant_based_behavior', 'behavior_bare', 'informative_bare', 'food',\n",
       "       'date_col', 'Year', 'Month', 'Day', 'rdpi', 'Zhao', 'StewartMilk',\n",
       "       'StewartPBMilk', 'Time', 'tgc_bin', 'tgc_bin*Time', 'tgc_bin*Time_C',\n",
       "       'fok_bin', 'fok_bin*Time', 'fok_bin*Time_C', 'okja_bin',\n",
       "       'okja_bin*Time', 'okja_bin*Time_C', 'wth_bin', 'wth_bin*Time',\n",
       "       'wth_bin*Time_C', 'cowspiracy_bin', 'cowspiracy_bin*Time',\n",
       "       'cowspiracy_bin*Time_C', 'owth_bin', 'owth_bin*Time', 'owth_bin*Time_C',\n",
       "       'yawye_bin', 'yawye_bin*Time', 'yawye_bin*Time_C', 'all_docs', 'owth',\n",
       "       'all_climate', 'Month_Dummy1', 'Month_Dummy2', 'Month_Dummy3',\n",
       "       'Month_Dummy4', 'Month_Dummy5', 'Month_Dummy6', 'Month_Dummy7',\n",
       "       'Month_Dummy8', 'Month_Dummy9', 'Month_Dummy10', 'Month_Dummy11',\n",
       "       'Month_Dummy12'],\n",
       "      dtype='object')"
      ]
     },
     "execution_count": 56,
     "metadata": {},
     "output_type": "execute_result"
    }
   ],
   "source": [
    "df.columns"
   ]
  },
  {
   "cell_type": "code",
   "execution_count": 57,
   "id": "a9d45740",
   "metadata": {},
   "outputs": [],
   "source": [
    "def compute_pct_change(intvn, outcome):\n",
    "    # Get PE and SD\n",
    "    pe = results_df.loc[results_df['Outcome'] == outcome_map[outcome]][intvn_mp[intvn] + '_pe'].item()\n",
    "    sd = df[intvn].std()\n",
    "\n",
    "    # Get pre-intvn baseline\n",
    "    offset = 12\n",
    "    if units == 'weeks':\n",
    "        offset = 52\n",
    "\n",
    "    elif units == 'days':\n",
    "        offset = 365\n",
    "\n",
    "    init_date = df['ds'][0]\n",
    "    intvn_date = '{y}-{m}-{d}'.format(y=netflix_release_dates[intvn][0], \n",
    "                                     m=netflix_release_dates[intvn][1], \n",
    "                                     d=netflix_release_dates[intvn][2])\n",
    "    release_date_time = date_difference(init_date, intvn_date, units)\n",
    "\n",
    "    pre_release_baseline = df.loc[(df['Time'] < release_date_time) & (df['Time'] > release_date_time - offset)][outcome].mean()\n",
    "\n",
    "    sd = df[outcome].std()\n",
    "    pct_increase = (pe*sd)/pre_release_baseline\n",
    "\n",
    "\n",
    "    print('pe, sd, baseline: ', pe, sd, pre_release_baseline)\n",
    "\n",
    "    print('pct increase: ', pct_increase)\n",
    "    \n",
    "    return pct_increase"
   ]
  },
  {
   "cell_type": "code",
   "execution_count": 58,
   "id": "6dad1fee",
   "metadata": {},
   "outputs": [
    {
     "name": "stdout",
     "output_type": "stream",
     "text": [
      "wth\n",
      "pe, sd, baseline:  0.168779736484168 3.010849119824754 2.1228598744324003\n",
      "pct increase:  0.23938005855119535\n",
      "tgc\n",
      "pe, sd, baseline:  0.153268953600704 3.010849119824754 5.14815550812597\n",
      "pct increase:  0.08963786997435219\n",
      "yawye\n",
      "pe, sd, baseline:  0.1708348099441286 3.010849119824754 6.523429611625659\n",
      "pct increase:  0.07884776379575732\n"
     ]
    }
   ],
   "source": [
    "outcome = 'plant_based_plus_plant_based'\n",
    "\n",
    "if units == 'months':\n",
    "    intvn_mp = {'fok': 'FOK', 'cowspiracy': 'Cowspiracy', 'owth': 'Okja/WTH', 'tgc': 'TGC', 'yawye': 'YAWYE'}\n",
    "    \n",
    "elif units == 'weeks':\n",
    "    intvn_mp = {'fok': 'FOK', 'cowspiracy': 'Cowspiracy', 'wth': 'WTH', 'okja': 'Okja', \n",
    "                'tgc': 'TGC', 'yawye': 'YAWYE'}\n",
    "\n",
    "outcome_map = {'plant_based_plus_plant_based': \"Searches: `Plant based'\", \n",
    "              'vegan': \"Searches: `Vegan'\", 'vegetarian': \"Searches: `Vegetarian'\", 'StewartMilk': 'StewartMilk',\n",
    "              'StewartPBMilk': 'StewartPBMilk', 'Zhao': 'Zhao', 'vegan_informative': \"Searches: `Vegan', Informative\",\n",
    "              'vegetarian_informative': \"Searches: `Vegetarian', Informative\", \n",
    "              'plant_based_informative': \"Searches: `Plant based', Informative\",\n",
    "              'vegan_behavior': \"Searches: `Vegan', Behavior\",\n",
    "              'vegetarian_behavior': \"Searches: `Vegetarian', Behavior\",\n",
    "              'plant_based_behavior': \"Searches: `Plant based', Behavior\"}\n",
    "    \n",
    "\n",
    "for intvn in ['wth', 'tgc', 'yawye']:\n",
    "    print(intvn)\n",
    "    compute_pct_change(intvn, outcome)"
   ]
  },
  {
   "cell_type": "code",
   "execution_count": 59,
   "id": "514bea6e",
   "metadata": {},
   "outputs": [
    {
     "data": {
      "text/plain": [
       "[<matplotlib.lines.Line2D at 0x7fd6793b4110>]"
      ]
     },
     "execution_count": 59,
     "metadata": {},
     "output_type": "execute_result"
    },
    {
     "data": {
      "image/png": "[encoded data removed]",
      "text/plain": [
       "<Figure size 640x480 with 1 Axes>"
      ]
     },
     "metadata": {},
     "output_type": "display_data"
    }
   ],
   "source": [
    "plt.plot(df['plant_based_behavior'])\n",
    "#plt.plot(df['wth'], label='wth')\n",
    "#plt.plot(df['tgc'], label='tgc')\n",
    "#plt.plot(df['yawye'], label='yawye')\n"
   ]
  }
 ],
 "metadata": {
  "kernelspec": {
   "display_name": "Python 3 (ipykernel)",
   "language": "python",
   "name": "python3"
  },
  "language_info": {
   "codemirror_mode": {
    "name": "ipython",
    "version": 3
   },
   "file_extension": ".py",
   "mimetype": "text/x-python",
   "name": "python",
   "nbconvert_exporter": "python",
   "pygments_lexer": "ipython3",
   "version": "3.7.15"
  }
 },
 "nbformat": 4,
 "nbformat_minor": 5
}
