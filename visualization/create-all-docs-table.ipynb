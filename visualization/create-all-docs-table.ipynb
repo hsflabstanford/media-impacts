{
 "cells": [
  {
   "cell_type": "code",
   "execution_count": 25,
   "id": "352ebb0b",
   "metadata": {},
   "outputs": [],
   "source": [
    "import matplotlib.pyplot as plt\n",
    "import pandas as pd\n",
    "import math\n",
    "import numpy as np"
   ]
  },
  {
   "cell_type": "code",
   "execution_count": 26,
   "id": "87ff7dbc",
   "metadata": {},
   "outputs": [],
   "source": [
    "units = 'months'\n",
    "intvn = 'All'\n",
    "models = ['assoc', 'contemp', 'lagged']\n",
    "model_map = {'assoc': 'Association', 'contemp': 'Contemporaneous', 'lagged': 'Lagged'}\n",
    "if units == 'weeks':\n",
    "    results_dir = '../results/assoc_contemp_lagged_2024_weeks_2024-06-26_15_47_00.166579/'\n",
    "else:\n",
    "    results_dir = '../results/assoc_contemp_lagged_2024_months_2024-06-26_15_35_52.478345/'"
   ]
  },
  {
   "cell_type": "code",
   "execution_count": 27,
   "id": "96dc53fb",
   "metadata": {},
   "outputs": [],
   "source": [
    "\"\"\"\n",
    "Table: outcome x [assoc, contemp, lagged]. Each entry: coefficient (p-value).\n",
    "\"\"\"\n",
    "\n",
    "tab_dct = {}\n",
    "list_to_bold = []\n",
    "alpha = 0.05\n",
    "bonf_denom = 7\n",
    "if units == 'months':\n",
    "    bonf_denom = 6\n",
    "\n",
    "for model in models:\n",
    "    tab_dct[model_map[model]] = {}\n",
    "\n",
    "    df = pd.read_csv(results_dir + model + '_df_{u}_all_primary.csv'.format(u=units))\n",
    "    df['Outcome'] = df['Outcome'].replace({'Zhao': 'Plant-based meat sales',\n",
    "                                      'StewartPBMilk': 'Plant-based milk sales',\n",
    "                                      'StewartMilk': 'Milk sales'})    \n",
    "    for outcome in df['Outcome']:\n",
    "        outcome_df = df.loc[df['Outcome'] == outcome]\n",
    "        pe = outcome_df[intvn + '_pe'].item()\n",
    "        pval = outcome_df[intvn + '_pval'].item()\n",
    "        if math.isnan(pe) and math.isnan(pval):\n",
    "            tab_dct[model_map[model]][outcome] = '' \n",
    "        elif pval < 0.1:\n",
    "            tab_dct[model_map[model]][outcome] = '{pe:.2f} ({p:.2e})'.format(pe=pe,p=pval)\n",
    "        else:\n",
    "            tab_dct[model_map[model]][outcome] = '{pe:.2f} ({p:.2f})'.format(pe=pe,p=pval) \n",
    "            \n",
    "        if pval < alpha/bonf_denom:\n",
    "            list_to_bold.append('{pe:.2f}'.format(pe=pe))\n",
    "\n",
    "tab_df = pd.DataFrame(tab_dct)"
   ]
  },
  {
   "cell_type": "code",
   "execution_count": 28,
   "id": "174e850d",
   "metadata": {},
   "outputs": [
    {
     "name": "stdout",
     "output_type": "stream",
     "text": [
      "['0.55', '0.49', '0.31', '0.44', '0.26', '0.53', '0.52', '0.30', '0.64', '0.49', '0.44', '0.23', '0.39', '0.21', '0.47', '0.45', '0.15', '0.58', '0.21', '0.37', '0.14', '0.32', '0.12', '0.21', '0.37', '0.22']\n",
      "\\begin{tabular}{llll}\n",
      "\\toprule\n",
      "{} &      Association &  Contemporaneous &           Lagged \\\\\n",
      "\\midrule\n",
      "Searches: `Plant based'              &  0.55 (3.43e-22) &  0.49 (7.56e-21) &  0.21 (6.48e-04) \\\\\n",
      "Searches: `Vegan'                    &  0.49 (3.76e-16) &  0.44 (2.35e-15) &  0.37 (2.68e-09) \\\\\n",
      "Searches: `Vegetarian'               &  0.31 (1.41e-07) &  0.23 (8.27e-09) &  0.14 (1.25e-03) \\\\\n",
      "Beef Demand                          &      0.07 (0.18) &      0.02 (0.65) &  0.08 (3.19e-02) \\\\\n",
      "Pork Demand                          &     -0.01 (0.81) &     -0.02 (0.56) &      0.06 (0.13) \\\\\n",
      "Chicken Demand                       &     -0.03 (0.49) &     -0.04 (0.33) &      0.03 (0.49) \\\\\n",
      "Milk sales                           &      0.00 (0.98) &      0.05 (0.50) &     -0.02 (0.80) \\\\\n",
      "Plant-based milk sales               &     -0.01 (0.86) &     -0.03 (0.63) &      0.03 (0.58) \\\\\n",
      "Plant-based meat sales               &      0.01 (0.84) &      0.07 (0.37) &      0.05 (0.45) \\\\\n",
      "Searches: `Vegan', Informative       &  0.44 (1.27e-13) &  0.39 (3.59e-12) &  0.32 (1.11e-07) \\\\\n",
      "Searches: `Vegetarian', Informative  &  0.26 (3.78e-06) &  0.21 (4.06e-06) &  0.12 (5.69e-03) \\\\\n",
      "Searches: `Plant based', Informative &  0.53 (3.01e-20) &  0.47 (5.95e-19) &  0.21 (6.24e-04) \\\\\n",
      "Searches: `Vegan', Behavior          &  0.52 (4.28e-18) &  0.45 (6.20e-22) &  0.37 (6.27e-10) \\\\\n",
      "Searches: `Vegetarian', Behavior     &  0.30 (1.28e-06) &  0.15 (3.56e-05) &  0.11 (9.17e-03) \\\\\n",
      "Searches: `Plant based', Behavior    &  0.64 (2.35e-30) &  0.58 (1.13e-27) &  0.22 (4.26e-04) \\\\\n",
      "\\bottomrule\n",
      "\\end{tabular}\n",
      "\n"
     ]
    }
   ],
   "source": [
    "print(list_to_bold)\n",
    "tab_str = tab_df.to_latex()\n",
    "print(tab_str)"
   ]
  },
  {
   "cell_type": "code",
   "execution_count": 29,
   "id": "09804be9",
   "metadata": {},
   "outputs": [
    {
     "name": "stdout",
     "output_type": "stream",
     "text": [
      "\\begin{tabular}{|l|l|l|l|}\n",
      "\\hline\n",
      "Outcome &      Association &  Contemporaneous &           Lagged \\\\\n",
      "\\hline\n",
      "Searches: `Plant based'              &  \\textbf{0.55} (3.43e-22) &  \\textbf{0.49} (7.56e-21) &  \\textbf{0.21} (6.48e-04) \\\\ \\hline\n",
      "Searches: `Vegan'                    &  \\textbf{0.49} (3.76e-16) &  \\textbf{0.44} (2.35e-15) &  \\textbf{0.37} (2.68e-09) \\\\ \\hline\n",
      "Searches: `Vegetarian'               &  \\textbf{0.31} (1.41e-07) &  \\textbf{0.23} (8.27e-09) &  \\textbf{0.14} (1.25e-03) \\\\ \\hline\n",
      "Beef Demand                          &      0.07 (0.18) &      0.02 (0.65) &  0.08 (3.19e-02) \\\\ \\hline\n",
      "Pork Demand                          &     -0.01 (0.81) &     -0.02 (0.56) &      0.06 (0.13) \\\\ \\hline\n",
      "Chicken Demand                       &     -0.03 (0.49) &     -0.04 (0.33) &      0.03 (0.49) \\\\ \\hline\n",
      "Milk sales                           &      0.00 (0.98) &      0.05 (0.50) &     -0.02 (0.80) \\\\ \\hline\n",
      "Plant-based milk sales               &     -0.01 (0.86) &     -0.03 (0.63) &      0.03 (0.58) \\\\ \\hline\n",
      "Plant-based meat sales               &      0.01 (0.84) &      0.07 (0.37) &      0.05 (0.45) \\\\ \\hline\n",
      "Searches: `Vegan', Informative       &  \\textbf{0.44} (1.27e-13) &  \\textbf{0.39} (3.59e-12) &  \\textbf{0.32} (1.11e-07) \\\\ \\hline\n",
      "Searches: `Vegetarian', Informative  &  \\textbf{0.26} (3.78e-06) &  \\textbf{0.21} (4.06e-06) &  \\textbf{0.12} (5.69e-03) \\\\ \\hline\n",
      "Searches: `Plant based', Informative &  \\textbf{0.53} (3.01e-20) &  \\textbf{0.47} (5.95e-19) &  \\textbf{0.21} (6.24e-04) \\\\ \\hline\n",
      "Searches: `Vegan', Behavior          &  \\textbf{0.52} (4.28e-18) &  \\textbf{0.45} (6.20e-22) &  \\textbf{0.37} (6.27e-10) \\\\ \\hline\n",
      "Searches: `Vegetarian', Behavior     &  \\textbf{0.30} (1.28e-06) &  \\textbf{0.15} (3.56e-05) &  0.11 (9.17e-03) \\\\ \\hline\n",
      "Searches: `Plant based', Behavior    &  \\textbf{0.64} (2.35e-30) &  \\textbf{0.58} (1.13e-27) &  \\textbf{0.22} (4.26e-04) \\\\\n",
      "\\hline\n",
      "\\end{tabular}\n",
      "\n"
     ]
    }
   ],
   "source": [
    "tab_str = tab_str.replace('{llll}', '{|l|l|l|l|}')\n",
    "tab_str = tab_str.replace('{}', 'Outcome')\n",
    "tab_str = tab_str.replace('toprule', 'hline')\n",
    "tab_str = tab_str.replace('midrule', 'hline')\n",
    "tab_str = tab_str.replace('bottomrule', 'hline')\n",
    "for outcome in df['Outcome']:\n",
    "    tab_str = tab_str.replace(' \\\\\\\\\\n' + outcome, ' \\\\\\\\ \\\\hline\\n' + outcome)\n",
    "for num in list_to_bold:\n",
    "    tab_str = tab_str.replace(num + ' (', '\\\\textbf{' + num + '} (')\n",
    "\n",
    "print(tab_str)"
   ]
  }
 ],
 "metadata": {
  "kernelspec": {
   "display_name": "Python 3 (ipykernel)",
   "language": "python",
   "name": "python3"
  },
  "language_info": {
   "codemirror_mode": {
    "name": "ipython",
    "version": 3
   },
   "file_extension": ".py",
   "mimetype": "text/x-python",
   "name": "python",
   "nbconvert_exporter": "python",
   "pygments_lexer": "ipython3",
   "version": "3.7.15"
  }
 },
 "nbformat": 4,
 "nbformat_minor": 5
}
