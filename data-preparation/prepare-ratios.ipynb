{
 "cells": [
  {
   "cell_type": "code",
   "execution_count": 47,
   "id": "194f4afe",
   "metadata": {},
   "outputs": [],
   "source": [
    "import pandas as pd\n",
    "import numpy as np\n",
    "import pickle as pkl"
   ]
  },
  {
   "cell_type": "code",
   "execution_count": 49,
   "id": "653ff06e",
   "metadata": {},
   "outputs": [],
   "source": [
    "# Update based on the 1/1/2004-5/31/2024 view\n",
    "okja_ratios = {'okja': 1.0}\n",
    "okja_ratios['fok'] = 0.23\n",
    "okja_ratios['wth'] = 0.86\n",
    "okja_ratios['tgc'] = 0.48\n",
    "okja_ratios['cowspiracy'] = 0.12\n",
    "okja_ratios['yawye'] = 0.29\n",
    "\n",
    "okja_ratios['speak_now'] = 1.0/0.52\n",
    "okja_ratios['red'] = 1.0/0.4\n",
    "okja_ratios['ts_1989'] = 1.0/0.63\n",
    "okja_ratios['reputation'] = 1.0/0.65\n",
    "okja_ratios['lover'] = 1.0/0.83\n",
    "\n",
    "okja_ratios['sustainability'] = 1.0/0.58\n",
    "okja_ratios['animal_welfare'] = 0.23\n",
    "okja_ratios['climate'] = 1.0/0.07\n",
    "okja_ratios['health'] = 1.0/0.02\n",
    "okja_ratios['climate_change'] = 1.0/0.09\n",
    "\n",
    "okja_ratios['nwts'] = 1.0/0.21\n",
    "okja_ratios['take_care'] = 1.0/0.18\n",
    "okja_ratios['views'] = 1.0/0.3\n",
    "okja_ratios['scorpion'] = 1.0/0.8\n",
    "okja_ratios['tml'] = 1.0/0.5"
   ]
  },
  {
   "cell_type": "code",
   "execution_count": 50,
   "id": "5bd43785",
   "metadata": {},
   "outputs": [
    {
     "data": {
      "text/plain": [
       "{'okja': 1.0,\n",
       " 'fok': 0.23,\n",
       " 'wth': 0.86,\n",
       " 'tgc': 0.48,\n",
       " 'cowspiracy': 0.12,\n",
       " 'yawye': 0.29,\n",
       " 'speak_now': 1.923076923076923,\n",
       " 'red': 2.5,\n",
       " 'ts_1989': 1.5873015873015872,\n",
       " 'reputation': 1.5384615384615383,\n",
       " 'lover': 1.2048192771084338,\n",
       " 'sustainability': 1.7241379310344829,\n",
       " 'animal_welfare': 0.23,\n",
       " 'climate': 14.285714285714285,\n",
       " 'health': 50.0,\n",
       " 'climate_change': 11.11111111111111,\n",
       " 'nwts': 4.761904761904762,\n",
       " 'take_care': 5.555555555555555,\n",
       " 'views': 3.3333333333333335,\n",
       " 'scorpion': 1.25,\n",
       " 'tml': 2.0}"
      ]
     },
     "execution_count": 50,
     "metadata": {},
     "output_type": "execute_result"
    }
   ],
   "source": [
    "okja_ratios"
   ]
  },
  {
   "cell_type": "code",
   "execution_count": 51,
   "id": "7f2ee8ea",
   "metadata": {},
   "outputs": [],
   "source": [
    "pkl.dump(okja_ratios, open('../data/raw/gtrends/okja_ratios.pkl', 'wb'))"
   ]
  },
  {
   "cell_type": "code",
   "execution_count": 53,
   "id": "7f03ffea",
   "metadata": {},
   "outputs": [],
   "source": [
    "# Computed over 1/1/2004 - 5/31/2024\n",
    "vegan_ratios = {'vegan': 1.0}\n",
    "vegan_ratios['plant based'] = 0.13\n",
    "vegan_ratios['vegetarian'] = 0.30 \n",
    "vegan_ratios['food'] = 1.0/0.1\n",
    "vegan_ratios['food near me'] = 1.0/0.28 \n",
    "vegan_ratios['recipes'] = 1.0/0.22\n",
    "vegan_ratios['recipe'] = 1.0/0.12 \n",
    "vegan_ratios['restaurant'] = 1.0/0.18 \n",
    "vegan_ratios['diet plan'] = 0.12\n",
    "vegan_ratios['restaurants'] = 1.0/0.18\n",
    "vegan_ratios['plant-based'] = 0.07*vegan_ratios['plant based']\n",
    "vegan_ratios['plant based recipes'] = 0.08*vegan_ratios['plant based']\n",
    "vegan_ratios['plant based recipe'] = 0.28*vegan_ratios['plant based recipes']\n",
    "vegan_ratios['plant based near me'] = 0.27*vegan_ratios['plant based recipes']\n",
    "vegan_ratios['plant based diet plan'] = 0.24*vegan_ratios['plant based recipes']\n",
    "vegan_ratios['plant based restaurant'] = 0.32*vegan_ratios['plant based diet plan']\n",
    "vegan_ratios['plant based restaurants'] = 0.19*vegan_ratios['plant based recipes']\n",
    "vegan_ratios['plant based restaurant near me'] = 0.1*vegan_ratios['plant based restaurants']\n",
    "vegan_ratios['plant based restaurants near me'] = 0.37*vegan_ratios['plant based restaurants']\n",
    "\n",
    "vegan_ratios['vegan recipes'] = 0.49*vegan_ratios['plant based']\n",
    "vegan_ratios['vegan recipe'] = 0.54*vegan_ratios['plant based']\n",
    "vegan_ratios['vegan near me'] = 0.68*vegan_ratios['plant based']\n",
    "vegan_ratios['vegan diet plan'] = 0.39*vegan_ratios['plant based recipes'] \n",
    "vegan_ratios['vegan restaurant'] = 0.16*vegan_ratios['plant based']\n",
    "vegan_ratios['vegan restaurants'] = 0.42*vegan_ratios['plant based']\n",
    "vegan_ratios['vegan restaurant near me'] = 0.09*vegan_ratios['vegan restaurants'] \n",
    "vegan_ratios['vegan restaurants near me'] = 0.29*vegan_ratios['vegan restaurants']\n",
    "\n",
    "vegan_ratios['vegetarian recipes'] = 0.46*vegan_ratios['plant based']\n",
    "vegan_ratios['vegetarian recipe'] = 0.25*vegan_ratios['plant based']\n",
    "vegan_ratios['vegetarian near me'] = 0.15*vegan_ratios['plant based']\n",
    "vegan_ratios['vegetarian diet plan'] = 0.1*vegan_ratios['vegetarian near me'] \n",
    "vegan_ratios['vegetarian restaurant'] = 0.64*vegan_ratios['vegetarian near me']\n",
    "vegan_ratios['vegetarian restaurants'] = 0.18*vegan_ratios['plant based']\n",
    "vegan_ratios['vegetarian restaurants near me'] = 0.37*vegan_ratios['vegetarian restaurants'] \n",
    "vegan_ratios['vegetarian restaurant near me'] = 0.13*vegan_ratios['vegetarian restaurants']"
   ]
  },
  {
   "cell_type": "code",
   "execution_count": 54,
   "id": "812e0e52",
   "metadata": {},
   "outputs": [
    {
     "data": {
      "text/plain": [
       "{'plant based restaurant near me': 0.00019760000000000003,\n",
       " 'plant based restaurants near me': 0.0007311200000000001,\n",
       " 'plant based restaurant': 0.0007987200000000002,\n",
       " 'vegetarian diet plan': 0.0019500000000000001,\n",
       " 'plant based restaurants': 0.0019760000000000003,\n",
       " 'plant based diet plan': 0.0024960000000000004,\n",
       " 'plant based near me': 0.0028080000000000006,\n",
       " 'plant based recipe': 0.0029120000000000005,\n",
       " 'vegetarian restaurant near me': 0.003042,\n",
       " 'vegan diet plan': 0.004056000000000001,\n",
       " 'vegan restaurant near me': 0.004914,\n",
       " 'vegetarian restaurants near me': 0.008658,\n",
       " 'plant-based': 0.0091,\n",
       " 'plant based recipes': 0.010400000000000001,\n",
       " 'vegetarian restaurant': 0.01248,\n",
       " 'vegan restaurants near me': 0.015834,\n",
       " 'vegetarian near me': 0.0195,\n",
       " 'vegan restaurant': 0.020800000000000003,\n",
       " 'vegetarian restaurants': 0.0234,\n",
       " 'vegetarian recipe': 0.0325,\n",
       " 'vegan restaurants': 0.0546,\n",
       " 'vegetarian recipes': 0.059800000000000006,\n",
       " 'vegan recipes': 0.0637,\n",
       " 'vegan recipe': 0.07020000000000001,\n",
       " 'vegan near me': 0.0884,\n",
       " 'diet plan': 0.12,\n",
       " 'plant based': 0.13,\n",
       " 'vegetarian': 0.3,\n",
       " 'vegan': 1.0,\n",
       " 'food near me': 3.571428571428571,\n",
       " 'recipes': 4.545454545454546,\n",
       " 'restaurant': 5.555555555555555,\n",
       " 'restaurants': 5.555555555555555,\n",
       " 'recipe': 8.333333333333334,\n",
       " 'food': 10.0}"
      ]
     },
     "execution_count": 54,
     "metadata": {},
     "output_type": "execute_result"
    }
   ],
   "source": [
    "{k: v for k, v in sorted(vegan_ratios.items(), key=lambda item: item[1])}"
   ]
  },
  {
   "cell_type": "code",
   "execution_count": 55,
   "id": "2db2e510",
   "metadata": {},
   "outputs": [],
   "source": [
    "pkl.dump(vegan_ratios, open('../data/raw/gtrends/vegan_ratios.pkl', 'wb'))"
   ]
  },
  {
   "cell_type": "code",
   "execution_count": 57,
   "id": "0c1ddbfb",
   "metadata": {},
   "outputs": [
    {
     "data": {
      "text/plain": [
       "{'recipes': 1.0,\n",
       " 'taylor_swift': 0.76,\n",
       " 'taylor_swift_lyrics': 0.0684,\n",
       " 'taylor_swift_songs': 0.0228,\n",
       " 'taylor_swift_album': 0.038000000000000006,\n",
       " 'taylor_swift_tour': 0.053200000000000004,\n",
       " 'drake': 0.51,\n",
       " 'drake_lyrics': 0.1275,\n",
       " 'drake_songs': 0.012750000000000001,\n",
       " 'drake_album': 0.049725000000000005,\n",
       " 'drake_tour': 0.01785}"
      ]
     },
     "execution_count": 57,
     "metadata": {},
     "output_type": "execute_result"
    }
   ],
   "source": [
    "recipes_ratios = {'recipes': 1.0}\n",
    "recipes_ratios['taylor_swift'] = 0.76\n",
    "recipes_ratios['taylor_swift_lyrics'] = 0.09*recipes_ratios['taylor_swift']\n",
    "recipes_ratios['taylor_swift_songs'] = 0.03*recipes_ratios['taylor_swift']\n",
    "recipes_ratios['taylor_swift_album'] = 0.05*recipes_ratios['taylor_swift']\n",
    "recipes_ratios['taylor_swift_tour'] = 0.07*recipes_ratios['taylor_swift']\n",
    "\n",
    "\n",
    "recipes_ratios['drake'] = 0.51\n",
    "recipes_ratios['drake_lyrics'] = 0.25 * recipes_ratios['drake']\n",
    "recipes_ratios['drake_songs'] = 0.10 * recipes_ratios['drake_lyrics']\n",
    "recipes_ratios['drake_album'] = 0.39 * recipes_ratios['drake_lyrics']\n",
    "recipes_ratios['drake_tour'] = 0.14* recipes_ratios['drake_lyrics']\n",
    "\n",
    "recipes_ratios\n"
   ]
  },
  {
   "cell_type": "code",
   "execution_count": 58,
   "id": "9dbf3b48",
   "metadata": {},
   "outputs": [],
   "source": [
    "pkl.dump(recipes_ratios, open('../data/raw/gtrends/recipes_ratios.pkl', 'wb'))"
   ]
  }
 ],
 "metadata": {
  "kernelspec": {
   "display_name": "Python 3 (ipykernel)",
   "language": "python",
   "name": "python3"
  },
  "language_info": {
   "codemirror_mode": {
    "name": "ipython",
    "version": 3
   },
   "file_extension": ".py",
   "mimetype": "text/x-python",
   "name": "python",
   "nbconvert_exporter": "python",
   "pygments_lexer": "ipython3",
   "version": "3.7.15"
  }
 },
 "nbformat": 4,
 "nbformat_minor": 5
}
